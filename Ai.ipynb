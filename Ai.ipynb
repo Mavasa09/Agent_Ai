{
 "cells": [
  {
   "cell_type": "code",
   "execution_count": null,
   "id": "5ce32ca9",
   "metadata": {},
   "outputs": [],
   "source": [
    "import numpy as np\n",
    "import pandas as pd\n",
    "import matplotlib.pyplot as plt\n",
    "from sklearn.model_selection import train_test_split, cross_val_score\n",
    "from sklearn.ensemble import RandomForestClassifier\n",
    "import torch as t\n",
    "from transformers import pipeline\n",
    "\n"
   ]
  },
  {
   "cell_type": "code",
   "execution_count": null,
   "id": "57cc8f81",
   "metadata": {},
   "outputs": [],
   "source": [
    "dataframe=pd.read_csv('Next_Generation_Simulation__NGSIM__Vehicle_Trajectories_and_Supporting_Data.csv')\n",
    "\n"
   ]
  },
  {
   "cell_type": "code",
   "execution_count": null,
   "id": "2ce056ed",
   "metadata": {},
   "outputs": [],
   "source": [
    "dataframe.head()"
   ]
  },
  {
   "cell_type": "code",
   "execution_count": null,
   "id": "2bf7ab2d",
   "metadata": {},
   "outputs": [],
   "source": [
    "dataframe.info()"
   ]
  },
  {
   "cell_type": "code",
   "execution_count": null,
   "id": "6657d6d5",
   "metadata": {},
   "outputs": [],
   "source": [
    "print(dataframe.isnull().sum())"
   ]
  },
  {
   "cell_type": "code",
   "execution_count": null,
   "id": "2e0ecba6",
   "metadata": {},
   "outputs": [],
   "source": [
    "print(df.dtypes)"
   ]
  },
  {
   "cell_type": "code",
   "execution_count": null,
   "id": "f8d8c793",
   "metadata": {},
   "outputs": [],
   "source": [
    "\n",
    "# Display basic info\n",
    "print(\"Dataset Preview:\")\n",
    "print(dataframe.head())\n",
    "print(\"\\nDataset Info:\")\n",
    "print(dataframe.info())\n"
   ]
  },
  {
   "cell_type": "code",
   "execution_count": null,
   "id": "72a4afe4",
   "metadata": {},
   "outputs": [],
   "source": [
    "dataframe=dataframe.drop_duplicates()"
   ]
  },
  {
   "cell_type": "code",
   "execution_count": null,
   "id": "714ed953",
   "metadata": {},
   "outputs": [],
   "source": [
    "dataframe.head"
   ]
  },
  {
   "cell_type": "code",
   "execution_count": null,
   "id": "e1e6a522",
   "metadata": {},
   "outputs": [],
   "source": [
    "# To drop NaN  values\n",
    "dataframe=dataframe.dropna()"
   ]
  },
  {
   "cell_type": "code",
   "execution_count": null,
   "id": "3f1957e7",
   "metadata": {},
   "outputs": [],
   "source": [
    "dataframe.head"
   ]
  },
  {
   "cell_type": "markdown",
   "id": "4574b4b4",
   "metadata": {},
   "source": [
    "machine learning "
   ]
  },
  {
   "cell_type": "code",
   "execution_count": null,
   "id": "ad0c6cbb",
   "metadata": {},
   "outputs": [],
   "source": [
    "x=dataframe.iloc[:,:-1] #Features \n",
    "y=dataframe.iloc[:, -1] #Target"
   ]
  },
  {
   "cell_type": "code",
   "execution_count": null,
   "id": "5c3770d5",
   "metadata": {},
   "outputs": [],
   "source": [
    "# this code converts the catagorical  feature to numeric which is (0 and 1)\n",
    "\n",
    "x=pd.get_dummies(x)\n",
    "if y.dtype == 'object':\n",
    "    y=pd.factorize(y)[0]\n",
    " "
   ]
  },
  {
   "cell_type": "code",
   "execution_count": null,
   "id": "4425b9c8",
   "metadata": {},
   "outputs": [],
   "source": [
    "from sklearn.metrics import accuracy_score, confusion_matrix, ConfusionMatrixDisplay"
   ]
  },
  {
   "cell_type": "code",
   "execution_count": null,
   "id": "7c832951",
   "metadata": {},
   "outputs": [],
   "source": [
    "\n",
    "# Split into training and testing sets\n",
    "x_train, X_test, y_train, y_test = train_test_split(x, y, test_size=0.3, random_state=42)\n",
    "\n",
    "# Train a RandomForestClassifier\n",
    "model= RandomForestClassifier(random_state=42)\n",
    "model.fit(x_train, y_train)\n",
    "\n",
    "# Make predictions\n",
    "y_pred = model.predict(X_test)\n",
    "\n",
    "\n"
   ]
  },
  {
   "cell_type": "code",
   "execution_count": null,
   "id": "cfe0ae03",
   "metadata": {},
   "outputs": [],
   "source": [
    "print('predicted values:', y_pred)"
   ]
  },
  {
   "cell_type": "code",
   "execution_count": null,
   "id": "be4277d1",
   "metadata": {},
   "outputs": [],
   "source": [
    "# Evaluate the model\n",
    "accuracy =accuracy_score(y_test, y_pred)\n",
    "print(f\"\\nModel Accuracy: {accuracy:.2f}\")\n",
    "\n",
    "# Plot the confusion matrix\n",
    "cm = confusion_matrix(y_test, y_pred)\n",
    "disp = ConfusionMatrixDisplay(confusion_matrix=cm)\n",
    "disp.plot(cmap=plt.cm.Blues)\n",
    "plt.title(\"Confusion Matrix\")\n",
    "plt.show()"
   ]
  },
  {
   "cell_type": "code",
   "execution_count": null,
   "id": "e344807c",
   "metadata": {},
   "outputs": [],
   "source": [
    "cv_scores = cross_val_score(model, x, y, cv=5)\n",
    "print(f\"Cross-validation Scores: {cv_scores}\")\n",
    "print(f\"Mean CV Accuracy: {np.mean(cv_scores):.4f}\")\n"
   ]
  },
  {
   "cell_type": "code",
   "execution_count": null,
   "id": "04e9e30f",
   "metadata": {},
   "outputs": [],
   "source": [
    "import seaborn as sns"
   ]
  },
  {
   "cell_type": "code",
   "execution_count": null,
   "id": "03a7b770",
   "metadata": {},
   "outputs": [],
   "source": [
    "\n",
    "# Check correlation with target (data leakage check)\n",
    "df_encoded = x.copy()\n",
    "df_encoded['target'] = y\n",
    "correlation_matrix = df_encoded.corr()\n",
    "\n",
    "plt.figure(figsize=(10, 1))\n",
    "sns.heatmap(correlation_matrix[['target']].T, annot=True, cmap='coolwarm')\n",
    "plt.title(\"Correlation of Features with Target\")\n",
    "plt.show()\n"
   ]
  },
  {
   "cell_type": "code",
   "execution_count": null,
   "id": "306f6dc5",
   "metadata": {},
   "outputs": [],
   "source": [
    "model"
   ]
  },
  {
   "cell_type": "code",
   "execution_count": null,
   "id": "75d47edb",
   "metadata": {},
   "outputs": [],
   "source": [
    "import joblib\n",
    "joblib.dump(model, 'municipal_ai_model.pkl')\n",
    "# Load the model\n",
    "#loaded_model = joblib.load('municipal_ai_model.pkl')\n",
    "# Use only the first 10000 rows for cross-validation\n",
    "#cv_scores = cross_val_score(model, x[:10000], y[:10000], cv=3, n_jobs=-1)\n"
   ]
  },
  {
   "cell_type": "code",
   "execution_count": null,
   "id": "f8482a6e",
   "metadata": {},
   "outputs": [],
   "source": [
    "model = joblib.load('municipal_ai_model.pkl')"
   ]
  },
  {
   "cell_type": "code",
   "execution_count": null,
   "id": "8df6674c",
   "metadata": {},
   "outputs": [],
   "source": [
    "print(model.get_params())"
   ]
  },
  {
   "cell_type": "code",
   "execution_count": null,
   "id": "8c452fb6",
   "metadata": {},
   "outputs": [],
   "source": [
    "\n",
    "\n",
    "importances = model.feature_importances_\n",
    "features = x.columns  # Make sure X is defined\n",
    "plt.barh(features, importances)\n",
    "plt.xlabel(\"Importance\")\n",
    "plt.title(\"Feature Importance\")\n",
    "plt.show()\n"
   ]
  },
  {
   "cell_type": "code",
   "execution_count": null,
   "id": "716cb865",
   "metadata": {},
   "outputs": [],
   "source": [
    "print(\"Feature names:\", model.feature_names_in_)"
   ]
  }
 ],
 "metadata": {
  "kernelspec": {
   "display_name": "Python 3",
   "language": "python",
   "name": "python3"
  },
  "language_info": {
   "codemirror_mode": {
    "name": "ipython",
    "version": 3
   },
   "file_extension": ".py",
   "mimetype": "text/x-python",
   "name": "python",
   "nbconvert_exporter": "python",
   "pygments_lexer": "ipython3",
   "version": "3.13.5"
  }
 },
 "nbformat": 4,
 "nbformat_minor": 5
}
